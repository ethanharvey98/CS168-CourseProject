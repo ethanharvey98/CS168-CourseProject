{
 "cells": [
  {
   "cell_type": "code",
   "execution_count": 1,
   "id": "16a36411",
   "metadata": {},
   "outputs": [],
   "source": [
    "%run -i initialize_dataset.py\n",
    "%run -i shallow_neural_networks.py\n",
    "%run -i least_squares.py\n",
    "\n",
    "import numpy as np\n",
    "import pandas as pd\n",
    "\n",
    "import cvxopt\n",
    "from sklearn.metrics import accuracy_score\n",
    "from sklearn.model_selection import KFold\n",
    "\n",
    "from matplotlib import pyplot as plt\n",
    "import seaborn as sns\n",
    "%matplotlib inline\n",
    "plt.style.use(\"seaborn\") # pretty matplotlib plots\n",
    "\n",
    "import warnings\n",
    "warnings.filterwarnings('ignore')"
   ]
  },
  {
   "cell_type": "code",
   "execution_count": 2,
   "id": "d70761c3",
   "metadata": {},
   "outputs": [],
   "source": [
    "qualified_subject_list = [1, 13, 14, 15, 20, 21, 22, 23, 24, 25, 27, 28, 29, 31, 32, 34, 35, 36, 37, 38, 40, 42, 43, 44, 45, 46, 47, 48, 49, 5, 51, 52, 54, 55, 56, 57, 58, 60, 61, 62, 63, 64, 65, 68, 69, 7, 70, 71,72, 73, 74, 75, 76, 78, 79, 80, 81, 82, 83, 84, 85, 86, 91, 92, 93, 94, 95, 97]\n",
    "unqualified_subject_list = [10, 11, 12, 16, 17, 18, 19, 26, 3, 30, 4, 41, 50, 53, 59, 66, 67, 8, 9]\n",
    "# load subject data\n",
    "qualified_X, qualified_y = initialize_dataset(qualified_subject_list)\n",
    "unqualified_X, unqualified_y = initialize_dataset(unqualified_subject_list)\n",
    "# reshape subject data\n",
    "qualified_newshape = (qualified_X.shape[0] * qualified_X.shape[1], qualified_X.shape[2] * qualified_X.shape[3])\n",
    "qualified_X = np.reshape(qualified_X, qualified_newshape)\n",
    "qualified_y = qualified_y.ravel()\n",
    "# un\n",
    "unqualified_newshape = (unqualified_X.shape[0] * unqualified_X.shape[1], unqualified_X.shape[2] * unqualified_X.shape[3])\n",
    "unqualified_X = np.reshape(unqualified_X, unqualified_newshape)\n",
    "unqualified_y = unqualified_y.ravel()"
   ]
  },
  {
   "cell_type": "code",
   "execution_count": null,
   "id": "54cb95f4",
   "metadata": {},
   "outputs": [],
   "source": []
  }
 ],
 "metadata": {
  "kernelspec": {
   "display_name": "Python 3",
   "language": "python",
   "name": "python3"
  },
  "language_info": {
   "codemirror_mode": {
    "name": "ipython",
    "version": 3
   },
   "file_extension": ".py",
   "mimetype": "text/x-python",
   "name": "python",
   "nbconvert_exporter": "python",
   "pygments_lexer": "ipython3",
   "version": "3.8.8"
  }
 },
 "nbformat": 4,
 "nbformat_minor": 5
}
