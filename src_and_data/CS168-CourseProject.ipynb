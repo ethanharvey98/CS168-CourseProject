{
 "cells": [
  {
   "cell_type": "code",
   "execution_count": 112,
   "id": "16a36411",
   "metadata": {},
   "outputs": [],
   "source": [
    "import os\n",
    "import numpy as np\n",
    "import pandas as pd\n",
    "\n",
    "from scipy.spatial.distance import cdist\n",
    "\n",
    "from matplotlib import pyplot as plt\n",
    "import seaborn as sns\n",
    "%matplotlib inline\n",
    "plt.style.use(\"seaborn\") # pretty matplotlib plots\n",
    "\n",
    "import warnings\n",
    "warnings.filterwarnings('ignore')"
   ]
  },
  {
   "cell_type": "code",
   "execution_count": 113,
   "id": "37ff46be",
   "metadata": {},
   "outputs": [],
   "source": [
    "def trial_split(df):\n",
    "    \"\"\"\n",
    "    trial_split desctiption\n",
    "    \n",
    "    Parameters\n",
    "    ----------\n",
    "    df : pandas.core.frame.DataFrame\n",
    "\n",
    "    Returns\n",
    "    -------\n",
    "    b: numpy.ndarray\n",
    "        \n",
    "    \"\"\"\n",
    "    trial = 0\n",
    "    a = np.ediff1d(df['label'].values, to_begin=0) == 0\n",
    "    b = np.empty(shape=(len(a)), dtype=int)\n",
    "    for index in range(len(a)):\n",
    "        if not a[index]:\n",
    "            trial += 1\n",
    "        b[index] = trial\n",
    "    return b"
   ]
  },
  {
   "cell_type": "code",
   "execution_count": 114,
   "id": "e2ef7a40",
   "metadata": {},
   "outputs": [],
   "source": [
    "def initialize_dataset():\n",
    "    \"\"\"\n",
    "    initialize_dataset desctiption\n",
    "\n",
    "    Returns\n",
    "    -------\n",
    "    data_list: numpy.ndarray\n",
    "    \n",
    "    data_list: numpy.ndarray\n",
    "        \n",
    "    \"\"\"\n",
    "    data_list = []\n",
    "    label_list = []\n",
    "    # path to data\n",
    "    filenames = os.listdir(os.getcwd()+\"/data/\")\n",
    "\n",
    "    for filename in filenames:\n",
    "        subject_id = os.path.basename(filename).strip(\"sub_.csv\")\n",
    "\n",
    "        df = pd.read_csv(os.getcwd()+\"/data/\"+filename)\n",
    "        df[\"trial\"] = trial_split(df)\n",
    "\n",
    "        grouped = df.groupby([\"label\",\"trial\"])\n",
    "        grouped_list = []\n",
    "        labels = []\n",
    "\n",
    "        for tuple, group in grouped:\n",
    "            data = group.drop(columns=[\"label\",\"trial\"]).to_numpy(dtype=np.float32)\n",
    "            grouped_list.append(data)\n",
    "            labels.append(tuple[0])\n",
    "\n",
    "        data_list.append(grouped_list)\n",
    "        label_list.append(labels)\n",
    "\n",
    "    return np.array(data_list), np.array(label_list)"
   ]
  },
  {
   "cell_type": "code",
   "execution_count": 152,
   "id": "51738f18",
   "metadata": {},
   "outputs": [],
   "source": [
    "data_list, label_list = initialize_dataset()"
   ]
  },
  {
   "cell_type": "code",
   "execution_count": 171,
   "id": "6860f1f0",
   "metadata": {},
   "outputs": [
    {
     "data": {
      "image/png": "[encoded data removed]",
      "text/plain": [
       "<Figure size 576x396 with 1 Axes>"
      ]
     },
     "metadata": {},
     "output_type": "display_data"
    }
   ],
   "source": [
    "# sample and scale data\n",
    "sample = data_list[0][3][0:30][:].T\n",
    "vmax = np.max(sample.flatten())\n",
    "vmin = np.min(sample.flatten())\n",
    "sample_std = (sample - vmin) / (vmax - vmin)\n",
    "sample_scaled = sample_std * (vmax - vmin) + vmin\n",
    "# display data\n",
    "plt.imshow(sample_scaled, cmap='bwr', vmax=vmax, vmin=vmin)\n",
    "plt.grid(False)\n",
    "plt.yticks([])\n",
    "plt.show()"
   ]
  },
  {
   "cell_type": "code",
   "execution_count": null,
   "id": "27ec0284",
   "metadata": {},
   "outputs": [],
   "source": []
  }
 ],
 "metadata": {
  "kernelspec": {
   "display_name": "Python 3",
   "language": "python",
   "name": "python3"
  },
  "language_info": {
   "codemirror_mode": {
    "name": "ipython",
    "version": 3
   },
   "file_extension": ".py",
   "mimetype": "text/x-python",
   "name": "python",
   "nbconvert_exporter": "python",
   "pygments_lexer": "ipython3",
   "version": "3.8.8"
  }
 },
 "nbformat": 4,
 "nbformat_minor": 5
}
