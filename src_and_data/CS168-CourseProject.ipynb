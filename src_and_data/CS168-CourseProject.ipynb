{
 "cells": [
  {
   "cell_type": "code",
   "execution_count": 391,
   "id": "16a36411",
   "metadata": {},
   "outputs": [],
   "source": [
    "import os\n",
    "import numpy as np\n",
    "import pandas as pd\n",
    "\n",
    "from scipy.spatial.distance import cdist\n",
    "\n",
    "from matplotlib import pyplot as plt\n",
    "import matplotlib.gridspec as gridspec\n",
    "import seaborn as sns\n",
    "%matplotlib inline\n",
    "plt.style.use(\"seaborn\") # pretty matplotlib plots\n",
    "\n",
    "import warnings\n",
    "warnings.filterwarnings('ignore')"
   ]
  },
  {
   "cell_type": "code",
   "execution_count": 405,
   "id": "e2ef7a40",
   "metadata": {},
   "outputs": [],
   "source": [
    "def initialize_dataset():\n",
    "    \"\"\"\n",
    "    initialize_dataset desctiption\n",
    "\n",
    "    Returns\n",
    "    -------\n",
    "    data_list: numpy.ndarray\n",
    "    \n",
    "    data_list: numpy.ndarray\n",
    "        \n",
    "    \"\"\"\n",
    "    data_list = []\n",
    "    label_list = []\n",
    "    # path to data\n",
    "    filenames = os.listdir(os.getcwd()+\"/data/\")\n",
    "\n",
    "    for filename in filenames:\n",
    "        if not filename.startswith(\".\"):\n",
    "            \n",
    "            subject_id = os.path.basename(filename).strip(\"sub_.csv\")\n",
    "            df = pd.read_csv(os.getcwd()+\"/data/\"+filename)\n",
    "            grouped = df.groupby([\"chunk\",\"label\"])\n",
    "            grouped_list = []\n",
    "            labels = []\n",
    "\n",
    "            for tuple, group in grouped:\n",
    "                data = group.drop(columns=[\"chunk\",\"label\"]).to_numpy(dtype=np.float32)\n",
    "                grouped_list.append(data)\n",
    "                labels.append(tuple[0])\n",
    "\n",
    "            data_list.append(grouped_list)\n",
    "            label_list.append(labels)\n",
    "\n",
    "    return np.array(data_list), np.array(label_list)"
   ]
  },
  {
   "cell_type": "code",
   "execution_count": 406,
   "id": "51738f18",
   "metadata": {},
   "outputs": [],
   "source": [
    "data_list, label_list = initialize_dataset()"
   ]
  },
  {
   "cell_type": "code",
   "execution_count": 410,
   "id": "f8d784c9",
   "metadata": {},
   "outputs": [
    {
     "name": "stdout",
     "output_type": "stream",
     "text": [
      "9\n"
     ]
    },
    {
     "data": {
      "image/png": "[encoded data removed]",
      "text/plain": [
       "<Figure size 720x288 with 9 Axes>"
      ]
     },
     "metadata": {},
     "output_type": "display_data"
    }
   ],
   "source": [
    "def plot(data):\n",
    "    # initialize figure\n",
    "    fig, axs = plt.subplots(9, 1,figsize=(10, 4), sharey=True, sharex=True, gridspec_kw={\"wspace\":0, \"hspace\":0}, squeeze=True)\n",
    "    cmaps = [\"Reds\",\"Reds\",\"Blues\",\"Blues\"]\n",
    "    for i in range(8):\n",
    "        index = i if i<4 else i+1\n",
    "        axs[index].imshow(data[:][i].reshape(1,len(data[:][i])), cmap=cmaps[i%4], aspect=\"auto\")\n",
    "    axs[4].imshow(np.zeros((1,len(data[:][i]))), vmax=1, vmin=0, cmap=\"binary\", aspect=\"auto\")\n",
    "    # set graph axis\n",
    "    axs[8].set_xlabel(\"Time (seconds)\")\n",
    "    # divide axis by 5\n",
    "    a = axs[8].get_xticks().tolist()\n",
    "    a = [int(i/5) for i in a]\n",
    "    axs[8].set_xticklabels(a)\n",
    "    yaxis = [\"AB_I_O\",\"AB_PHI_O\",\"AB_I_DO\",\"AB_PHI_DO\",\"\",\"CD_I_O\",\"CD_PHI_O\",\"CD_I_DO\",\"CD_PHI_DO\"]\n",
    "    for i in range(9):\n",
    "        axs[i].grid(False)\n",
    "        axs[i].set_yticks([])\n",
    "        axs[i].set_ylabel(yaxis[i], rotation=0, labelpad=40, loc=\"center\")\n",
    "    fig.suptitle(\"fNIRS Visualization\")\n",
    "    # return figure\n",
    "    return fig\n",
    "\n",
    "# sample and scale data\n",
    "trial = 9\n",
    "sample = data_list[0][trial].T\n",
    "print(label_list[0][trial])\n",
    "vmax = np.max(sample.flatten())\n",
    "vmin = np.min(sample.flatten())\n",
    "sample_std = (sample - vmin) / (vmax - vmin)\n",
    "sample_scaled = sample_std * (vmax - vmin) + vmin\n",
    "fig = plot(sample_scaled)"
   ]
  },
  {
   "cell_type": "code",
   "execution_count": null,
   "id": "242c51e1",
   "metadata": {},
   "outputs": [],
   "source": []
  }
 ],
 "metadata": {
  "kernelspec": {
   "display_name": "Python 3",
   "language": "python",
   "name": "python3"
  },
  "language_info": {
   "codemirror_mode": {
    "name": "ipython",
    "version": 3
   },
   "file_extension": ".py",
   "mimetype": "text/x-python",
   "name": "python",
   "nbconvert_exporter": "python",
   "pygments_lexer": "ipython3",
   "version": "3.8.8"
  }
 },
 "nbformat": 4,
 "nbformat_minor": 5
}
